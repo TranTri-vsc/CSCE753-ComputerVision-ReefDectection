{
 "cells": [
  {
   "cell_type": "markdown",
   "id": "038e4631",
   "metadata": {},
   "source": [
    "# MODEL 3: UNET Training from scratch"
   ]
  },
  {
   "cell_type": "markdown",
   "id": "bb950dea",
   "metadata": {},
   "source": [
    "### Part 0: Setting up the environment"
   ]
  },
  {
   "cell_type": "code",
   "execution_count": 1,
   "id": "9141f67c",
   "metadata": {},
   "outputs": [
    {
     "name": "stderr",
     "output_type": "stream",
     "text": [
      "c:\\Users\\TriTran\\Documents\\TAMU\\SPRING_25\\CSCE_753_CV\\Project_main\\envs\\Lib\\site-packages\\tqdm\\auto.py:21: TqdmWarning: IProgress not found. Please update jupyter and ipywidgets. See https://ipywidgets.readthedocs.io/en/stable/user_install.html\n",
      "  from .autonotebook import tqdm as notebook_tqdm\n"
     ]
    }
   ],
   "source": [
    "import torch\n",
    "import torch.nn as nn\n",
    "import torchvision.transforms as T\n",
    "from torch.utils.data import Dataset, DataLoader, random_split\n",
    "from torchvision.io import read_image\n",
    "import numpy as np\n",
    "import time, os, json\n",
    "from tqdm import tqdm\n",
    "import glob\n",
    "import kagglehub\n",
    "import matplotlib.pyplot as plt\n",
    "from PIL import Image"
   ]
  },
  {
   "cell_type": "markdown",
   "id": "23990b42",
   "metadata": {},
   "source": [
    "### Part 1: Configurating datasets and functions"
   ]
  },
  {
   "cell_type": "code",
   "execution_count": 2,
   "id": "1c3a7967",
   "metadata": {},
   "outputs": [
    {
     "name": "stdout",
     "output_type": "stream",
     "text": [
      "Warning: Looks like you're using an outdated `kagglehub` version, please consider updating (latest version: 0.3.11)\n"
     ]
    }
   ],
   "source": [
    "# Device configuration\n",
    "device = torch.device(\"cuda\" if torch.cuda.is_available() else \"cpu\")\n",
    "\n",
    "# Paths configuration\n",
    "base_path = kagglehub.dataset_download(\"triminhtran/csce670-segmentation-dataset\")\n",
    "image_dir = os.path.join(base_path, \"JPEGImages\")\n",
    "mask_dir = os.path.join(base_path, \"SegmentationClass\")"
   ]
  },
  {
   "cell_type": "markdown",
   "id": "91329e68",
   "metadata": {},
   "source": [
    "### Part 2: Loading dataset and model"
   ]
  },
  {
   "cell_type": "code",
   "execution_count": 3,
   "id": "f976059c",
   "metadata": {},
   "outputs": [],
   "source": [
    "class SegmentationDataset(Dataset):\n",
    "    def __init__(self, image_dir, mask_dir, resize=(448,640)):\n",
    "        self.image_paths = sorted(glob.glob(os.path.join(image_dir, '*.jpg')))\n",
    "        self.mask_paths = sorted(glob.glob(os.path.join(mask_dir, '*.png')))\n",
    "        self.resize = T.Resize(resize, interpolation=T.InterpolationMode.NEAREST)\n",
    "\n",
    "    def __len__(self):\n",
    "        return len(self.image_paths)\n",
    "\n",
    "    def __getitem__(self, idx):\n",
    "        img = Image.open(self.image_paths[idx]).convert('RGB')\n",
    "        mask = Image.open(self.mask_paths[idx]).convert('L')\n",
    "\n",
    "        img = self.resize(img)\n",
    "        mask = self.resize(mask)\n",
    "\n",
    "        img = T.functional.to_tensor(img)\n",
    "        mask = (T.functional.to_tensor(mask) > 0.05).long().squeeze(0)\n",
    "\n",
    "        return img, mask\n",
    "\n",
    "# Metrics calculation\n",
    "def calculate_metrics(pred, target):\n",
    "    pred = pred.cpu().numpy()\n",
    "    target = target.cpu().numpy()\n",
    "\n",
    "    intersection = np.logical_and(target, pred).sum()\n",
    "    union = np.logical_or(target, pred).sum()\n",
    "    pred_sum = pred.sum()\n",
    "    target_sum = target.sum()\n",
    "\n",
    "    iou = intersection / union if union != 0 else np.nan\n",
    "    pixel_acc = (pred == target).mean()\n",
    "    precision = intersection / pred_sum if pred_sum != 0 else np.nan\n",
    "    recall = intersection / target_sum if target_sum != 0 else np.nan\n",
    "\n",
    "    return iou, pixel_acc, precision, recall"
   ]
  },
  {
   "cell_type": "code",
   "execution_count": 4,
   "id": "8911a10c",
   "metadata": {},
   "outputs": [],
   "source": [
    "# Create dataloaders\n",
    "dataset = SegmentationDataset(image_dir, mask_dir)\n",
    "train_size = int(0.7 * len(dataset))\n",
    "val_size = int(0.15 * len(dataset))\n",
    "test_size = len(dataset) - train_size - val_size\n",
    "train_data, val_data, test_data = random_split(dataset, [train_size, val_size, test_size])\n",
    "\n",
    "train_loader = DataLoader(train_data, batch_size=8, shuffle=True)\n",
    "val_loader = DataLoader(val_data, batch_size=8)\n",
    "test_loader = DataLoader(test_data, batch_size=1)"
   ]
  },
  {
   "cell_type": "markdown",
   "id": "1ba3aa9a",
   "metadata": {},
   "source": [
    "### Part 3: Training"
   ]
  },
  {
   "cell_type": "code",
   "execution_count": 5,
   "id": "42d65308",
   "metadata": {},
   "outputs": [],
   "source": [
    "class UNet(nn.Module):\n",
    "    def __init__(self, in_channels=3, out_channels=1):\n",
    "        super(UNet, self).__init__()\n",
    "\n",
    "        self.enc1 = self.conv_block(in_channels, 64)\n",
    "        self.enc2 = self.conv_block(64, 128)\n",
    "        self.enc3 = self.conv_block(128, 256)\n",
    "        self.enc4 = self.conv_block(256, 512)\n",
    "\n",
    "        self.pool = nn.MaxPool2d(2)\n",
    "\n",
    "        self.bottleneck = self.conv_block(512, 1024)\n",
    "\n",
    "        self.upconv4 = nn.ConvTranspose2d(1024, 512, kernel_size=2, stride=2)\n",
    "        self.dec4 = self.conv_block(1024, 512)\n",
    "        self.upconv3 = nn.ConvTranspose2d(512, 256, kernel_size=2, stride=2)\n",
    "        self.dec3 = self.conv_block(512, 256)\n",
    "        self.upconv2 = nn.ConvTranspose2d(256, 128, kernel_size=2, stride=2)\n",
    "        self.dec2 = self.conv_block(256, 128)\n",
    "        self.upconv1 = nn.ConvTranspose2d(128, 64, kernel_size=2, stride=2)\n",
    "        self.dec1 = self.conv_block(128, 64)\n",
    "\n",
    "        self.conv_final = nn.Conv2d(64, out_channels, kernel_size=1)\n",
    "\n",
    "    def conv_block(self, in_channels, out_channels):\n",
    "        return nn.Sequential(\n",
    "            nn.Conv2d(in_channels, out_channels, kernel_size=3, padding=1),\n",
    "            nn.ReLU(inplace=True),\n",
    "            nn.Conv2d(out_channels, out_channels, kernel_size=3, padding=1),\n",
    "            nn.ReLU(inplace=True)\n",
    "        )\n",
    "\n",
    "    def forward(self, x):\n",
    "        enc1 = self.enc1(x)\n",
    "        enc2 = self.enc2(self.pool(enc1))\n",
    "        enc3 = self.enc3(self.pool(enc2))\n",
    "        enc4 = self.enc4(self.pool(enc3))\n",
    "\n",
    "        bottleneck = self.bottleneck(self.pool(enc4))\n",
    "\n",
    "        dec4 = self.dec4(torch.cat((self.upconv4(bottleneck), enc4), dim=1))\n",
    "        dec3 = self.dec3(torch.cat((self.upconv3(dec4), enc3), dim=1))\n",
    "        dec2 = self.dec2(torch.cat((self.upconv2(dec3), enc2), dim=1))\n",
    "        dec1 = self.dec1(torch.cat((self.upconv1(dec2), enc1), dim=1))\n",
    "\n",
    "        return self.conv_final(dec1)\n",
    "\n",
    "model = UNet(in_channels=3, out_channels=2).to(device)"
   ]
  },
  {
   "cell_type": "code",
   "execution_count": 6,
   "id": "fd416ff0",
   "metadata": {},
   "outputs": [
    {
     "name": "stderr",
     "output_type": "stream",
     "text": [
      "Epoch 1/100: 100%|██████████| 47/47 [00:22<00:00,  2.13it/s]\n"
     ]
    },
    {
     "name": "stdout",
     "output_type": "stream",
     "text": [
      "Epoch 1 - Train Loss: 0.3778, Val Loss: 0.1218, Train Acc: 0.7854, Val Acc: 0.9761\n"
     ]
    },
    {
     "name": "stderr",
     "output_type": "stream",
     "text": [
      "Epoch 2/100: 100%|██████████| 47/47 [00:20<00:00,  2.26it/s]\n"
     ]
    },
    {
     "name": "stdout",
     "output_type": "stream",
     "text": [
      "Epoch 2 - Train Loss: 0.0970, Val Loss: 0.1125, Train Acc: 0.9808, Val Acc: 0.9761\n"
     ]
    },
    {
     "name": "stderr",
     "output_type": "stream",
     "text": [
      "Epoch 3/100: 100%|██████████| 47/47 [00:20<00:00,  2.25it/s]\n"
     ]
    },
    {
     "name": "stdout",
     "output_type": "stream",
     "text": [
      "Epoch 3 - Train Loss: 0.0948, Val Loss: 0.1101, Train Acc: 0.9808, Val Acc: 0.9761\n"
     ]
    },
    {
     "name": "stderr",
     "output_type": "stream",
     "text": [
      "Epoch 4/100: 100%|██████████| 47/47 [00:20<00:00,  2.26it/s]\n"
     ]
    },
    {
     "name": "stdout",
     "output_type": "stream",
     "text": [
      "Epoch 4 - Train Loss: 0.0914, Val Loss: 0.1074, Train Acc: 0.9808, Val Acc: 0.9761\n"
     ]
    },
    {
     "name": "stderr",
     "output_type": "stream",
     "text": [
      "Epoch 5/100: 100%|██████████| 47/47 [00:20<00:00,  2.25it/s]\n"
     ]
    },
    {
     "name": "stdout",
     "output_type": "stream",
     "text": [
      "Epoch 5 - Train Loss: 0.0889, Val Loss: 0.1054, Train Acc: 0.9808, Val Acc: 0.9761\n"
     ]
    },
    {
     "name": "stderr",
     "output_type": "stream",
     "text": [
      "Epoch 6/100: 100%|██████████| 47/47 [00:20<00:00,  2.25it/s]\n"
     ]
    },
    {
     "name": "stdout",
     "output_type": "stream",
     "text": [
      "Epoch 6 - Train Loss: 0.0868, Val Loss: 0.1044, Train Acc: 0.9808, Val Acc: 0.9761\n"
     ]
    },
    {
     "name": "stderr",
     "output_type": "stream",
     "text": [
      "Epoch 7/100: 100%|██████████| 47/47 [00:20<00:00,  2.25it/s]\n"
     ]
    },
    {
     "name": "stdout",
     "output_type": "stream",
     "text": [
      "Epoch 7 - Train Loss: 0.0866, Val Loss: 0.1033, Train Acc: 0.9808, Val Acc: 0.9761\n"
     ]
    },
    {
     "name": "stderr",
     "output_type": "stream",
     "text": [
      "Epoch 8/100: 100%|██████████| 47/47 [00:20<00:00,  2.25it/s]\n"
     ]
    },
    {
     "name": "stdout",
     "output_type": "stream",
     "text": [
      "Epoch 8 - Train Loss: 0.0848, Val Loss: 0.1025, Train Acc: 0.9808, Val Acc: 0.9761\n"
     ]
    },
    {
     "name": "stderr",
     "output_type": "stream",
     "text": [
      "Epoch 9/100: 100%|██████████| 47/47 [00:20<00:00,  2.25it/s]\n"
     ]
    },
    {
     "name": "stdout",
     "output_type": "stream",
     "text": [
      "Epoch 9 - Train Loss: 0.0850, Val Loss: 0.1023, Train Acc: 0.9808, Val Acc: 0.9761\n"
     ]
    },
    {
     "name": "stderr",
     "output_type": "stream",
     "text": [
      "Epoch 10/100: 100%|██████████| 47/47 [00:20<00:00,  2.25it/s]\n"
     ]
    },
    {
     "name": "stdout",
     "output_type": "stream",
     "text": [
      "Epoch 10 - Train Loss: 0.0842, Val Loss: 0.1020, Train Acc: 0.9808, Val Acc: 0.9761\n"
     ]
    },
    {
     "name": "stderr",
     "output_type": "stream",
     "text": [
      "Epoch 11/100: 100%|██████████| 47/47 [00:20<00:00,  2.25it/s]\n"
     ]
    },
    {
     "name": "stdout",
     "output_type": "stream",
     "text": [
      "Epoch 11 - Train Loss: 0.0840, Val Loss: 0.1024, Train Acc: 0.9808, Val Acc: 0.9761\n"
     ]
    },
    {
     "name": "stderr",
     "output_type": "stream",
     "text": [
      "Epoch 12/100: 100%|██████████| 47/47 [00:20<00:00,  2.25it/s]\n"
     ]
    },
    {
     "name": "stdout",
     "output_type": "stream",
     "text": [
      "Epoch 12 - Train Loss: 0.0831, Val Loss: 0.1022, Train Acc: 0.9808, Val Acc: 0.9761\n"
     ]
    },
    {
     "name": "stderr",
     "output_type": "stream",
     "text": [
      "Epoch 13/100: 100%|██████████| 47/47 [00:20<00:00,  2.24it/s]\n"
     ]
    },
    {
     "name": "stdout",
     "output_type": "stream",
     "text": [
      "Epoch 13 - Train Loss: 0.0833, Val Loss: 0.1021, Train Acc: 0.9808, Val Acc: 0.9761\n"
     ]
    },
    {
     "name": "stderr",
     "output_type": "stream",
     "text": [
      "Epoch 14/100: 100%|██████████| 47/47 [00:20<00:00,  2.25it/s]\n"
     ]
    },
    {
     "name": "stdout",
     "output_type": "stream",
     "text": [
      "Epoch 14 - Train Loss: 0.0830, Val Loss: 0.1030, Train Acc: 0.9808, Val Acc: 0.9761\n"
     ]
    },
    {
     "name": "stderr",
     "output_type": "stream",
     "text": [
      "Epoch 15/100: 100%|██████████| 47/47 [00:20<00:00,  2.25it/s]\n"
     ]
    },
    {
     "name": "stdout",
     "output_type": "stream",
     "text": [
      "Epoch 15 - Train Loss: 0.0828, Val Loss: 0.1032, Train Acc: 0.9808, Val Acc: 0.9761\n"
     ]
    },
    {
     "name": "stderr",
     "output_type": "stream",
     "text": [
      "Epoch 16/100: 100%|██████████| 47/47 [00:20<00:00,  2.25it/s]\n"
     ]
    },
    {
     "name": "stdout",
     "output_type": "stream",
     "text": [
      "Epoch 16 - Train Loss: 0.0824, Val Loss: 0.1020, Train Acc: 0.9807, Val Acc: 0.9761\n"
     ]
    },
    {
     "name": "stderr",
     "output_type": "stream",
     "text": [
      "Epoch 17/100: 100%|██████████| 47/47 [00:20<00:00,  2.24it/s]\n"
     ]
    },
    {
     "name": "stdout",
     "output_type": "stream",
     "text": [
      "Epoch 17 - Train Loss: 0.0814, Val Loss: 0.1002, Train Acc: 0.9808, Val Acc: 0.9761\n"
     ]
    },
    {
     "name": "stderr",
     "output_type": "stream",
     "text": [
      "Epoch 18/100: 100%|██████████| 47/47 [00:20<00:00,  2.25it/s]\n"
     ]
    },
    {
     "name": "stdout",
     "output_type": "stream",
     "text": [
      "Epoch 18 - Train Loss: 0.0809, Val Loss: 0.1028, Train Acc: 0.9808, Val Acc: 0.9761\n"
     ]
    },
    {
     "name": "stderr",
     "output_type": "stream",
     "text": [
      "Epoch 19/100: 100%|██████████| 47/47 [00:20<00:00,  2.25it/s]\n"
     ]
    },
    {
     "name": "stdout",
     "output_type": "stream",
     "text": [
      "Epoch 19 - Train Loss: 0.0827, Val Loss: 0.1024, Train Acc: 0.9808, Val Acc: 0.9761\n"
     ]
    },
    {
     "name": "stderr",
     "output_type": "stream",
     "text": [
      "Epoch 20/100: 100%|██████████| 47/47 [00:20<00:00,  2.25it/s]\n"
     ]
    },
    {
     "name": "stdout",
     "output_type": "stream",
     "text": [
      "Epoch 20 - Train Loss: 0.0804, Val Loss: 0.1001, Train Acc: 0.9808, Val Acc: 0.9761\n"
     ]
    },
    {
     "name": "stderr",
     "output_type": "stream",
     "text": [
      "Epoch 21/100: 100%|██████████| 47/47 [00:20<00:00,  2.25it/s]\n"
     ]
    },
    {
     "name": "stdout",
     "output_type": "stream",
     "text": [
      "Epoch 21 - Train Loss: 0.0798, Val Loss: 0.0986, Train Acc: 0.9808, Val Acc: 0.9761\n"
     ]
    },
    {
     "name": "stderr",
     "output_type": "stream",
     "text": [
      "Epoch 22/100: 100%|██████████| 47/47 [00:20<00:00,  2.25it/s]\n"
     ]
    },
    {
     "name": "stdout",
     "output_type": "stream",
     "text": [
      "Epoch 22 - Train Loss: 0.0793, Val Loss: 0.0990, Train Acc: 0.9808, Val Acc: 0.9761\n"
     ]
    },
    {
     "name": "stderr",
     "output_type": "stream",
     "text": [
      "Epoch 23/100: 100%|██████████| 47/47 [00:20<00:00,  2.25it/s]\n"
     ]
    },
    {
     "name": "stdout",
     "output_type": "stream",
     "text": [
      "Epoch 23 - Train Loss: 0.0804, Val Loss: 0.0973, Train Acc: 0.9808, Val Acc: 0.9761\n"
     ]
    },
    {
     "name": "stderr",
     "output_type": "stream",
     "text": [
      "Epoch 24/100: 100%|██████████| 47/47 [00:21<00:00,  2.21it/s]\n"
     ]
    },
    {
     "name": "stdout",
     "output_type": "stream",
     "text": [
      "Epoch 24 - Train Loss: 0.0796, Val Loss: 0.0991, Train Acc: 0.9808, Val Acc: 0.9761\n"
     ]
    },
    {
     "name": "stderr",
     "output_type": "stream",
     "text": [
      "Epoch 25/100: 100%|██████████| 47/47 [00:21<00:00,  2.18it/s]\n"
     ]
    },
    {
     "name": "stdout",
     "output_type": "stream",
     "text": [
      "Epoch 25 - Train Loss: 0.0789, Val Loss: 0.0968, Train Acc: 0.9808, Val Acc: 0.9761\n"
     ]
    },
    {
     "name": "stderr",
     "output_type": "stream",
     "text": [
      "Epoch 26/100: 100%|██████████| 47/47 [00:21<00:00,  2.16it/s]\n"
     ]
    },
    {
     "name": "stdout",
     "output_type": "stream",
     "text": [
      "Epoch 26 - Train Loss: 0.0791, Val Loss: 0.0990, Train Acc: 0.9808, Val Acc: 0.9761\n"
     ]
    },
    {
     "name": "stderr",
     "output_type": "stream",
     "text": [
      "Epoch 27/100: 100%|██████████| 47/47 [00:21<00:00,  2.16it/s]\n"
     ]
    },
    {
     "name": "stdout",
     "output_type": "stream",
     "text": [
      "Epoch 27 - Train Loss: 0.0792, Val Loss: 0.0986, Train Acc: 0.9808, Val Acc: 0.9761\n"
     ]
    },
    {
     "name": "stderr",
     "output_type": "stream",
     "text": [
      "Epoch 28/100: 100%|██████████| 47/47 [00:21<00:00,  2.16it/s]\n"
     ]
    },
    {
     "name": "stdout",
     "output_type": "stream",
     "text": [
      "Epoch 28 - Train Loss: 0.0786, Val Loss: 0.0989, Train Acc: 0.9808, Val Acc: 0.9761\n"
     ]
    },
    {
     "name": "stderr",
     "output_type": "stream",
     "text": [
      "Epoch 29/100: 100%|██████████| 47/47 [00:21<00:00,  2.15it/s]\n"
     ]
    },
    {
     "name": "stdout",
     "output_type": "stream",
     "text": [
      "Epoch 29 - Train Loss: 0.0780, Val Loss: 0.0996, Train Acc: 0.9808, Val Acc: 0.9761\n"
     ]
    },
    {
     "name": "stderr",
     "output_type": "stream",
     "text": [
      "Epoch 30/100: 100%|██████████| 47/47 [00:21<00:00,  2.17it/s]\n"
     ]
    },
    {
     "name": "stdout",
     "output_type": "stream",
     "text": [
      "Epoch 30 - Train Loss: 0.0777, Val Loss: 0.0948, Train Acc: 0.9808, Val Acc: 0.9761\n"
     ]
    },
    {
     "name": "stderr",
     "output_type": "stream",
     "text": [
      "Epoch 31/100: 100%|██████████| 47/47 [00:21<00:00,  2.14it/s]\n"
     ]
    },
    {
     "name": "stdout",
     "output_type": "stream",
     "text": [
      "Epoch 31 - Train Loss: 0.0765, Val Loss: 0.0931, Train Acc: 0.9808, Val Acc: 0.9761\n"
     ]
    },
    {
     "name": "stderr",
     "output_type": "stream",
     "text": [
      "Epoch 32/100: 100%|██████████| 47/47 [00:21<00:00,  2.15it/s]\n"
     ]
    },
    {
     "name": "stdout",
     "output_type": "stream",
     "text": [
      "Epoch 32 - Train Loss: 0.0776, Val Loss: 0.0947, Train Acc: 0.9808, Val Acc: 0.9761\n"
     ]
    },
    {
     "name": "stderr",
     "output_type": "stream",
     "text": [
      "Epoch 33/100: 100%|██████████| 47/47 [00:21<00:00,  2.16it/s]\n"
     ]
    },
    {
     "name": "stdout",
     "output_type": "stream",
     "text": [
      "Epoch 33 - Train Loss: 0.0757, Val Loss: 0.0929, Train Acc: 0.9808, Val Acc: 0.9761\n"
     ]
    },
    {
     "name": "stderr",
     "output_type": "stream",
     "text": [
      "Epoch 34/100: 100%|██████████| 47/47 [00:22<00:00,  2.12it/s]\n"
     ]
    },
    {
     "name": "stdout",
     "output_type": "stream",
     "text": [
      "Epoch 34 - Train Loss: 0.0755, Val Loss: 0.0978, Train Acc: 0.9808, Val Acc: 0.9761\n"
     ]
    },
    {
     "name": "stderr",
     "output_type": "stream",
     "text": [
      "Epoch 35/100: 100%|██████████| 47/47 [00:21<00:00,  2.15it/s]\n"
     ]
    },
    {
     "name": "stdout",
     "output_type": "stream",
     "text": [
      "Epoch 35 - Train Loss: 0.0753, Val Loss: 0.0906, Train Acc: 0.9808, Val Acc: 0.9761\n"
     ]
    },
    {
     "name": "stderr",
     "output_type": "stream",
     "text": [
      "Epoch 36/100: 100%|██████████| 47/47 [00:21<00:00,  2.18it/s]\n"
     ]
    },
    {
     "name": "stdout",
     "output_type": "stream",
     "text": [
      "Epoch 36 - Train Loss: 0.0727, Val Loss: 0.0845, Train Acc: 0.9808, Val Acc: 0.9764\n"
     ]
    },
    {
     "name": "stderr",
     "output_type": "stream",
     "text": [
      "Epoch 37/100: 100%|██████████| 47/47 [00:21<00:00,  2.16it/s]\n"
     ]
    },
    {
     "name": "stdout",
     "output_type": "stream",
     "text": [
      "Epoch 37 - Train Loss: 0.0674, Val Loss: 0.0877, Train Acc: 0.9817, Val Acc: 0.9765\n"
     ]
    },
    {
     "name": "stderr",
     "output_type": "stream",
     "text": [
      "Epoch 38/100: 100%|██████████| 47/47 [00:21<00:00,  2.15it/s]\n"
     ]
    },
    {
     "name": "stdout",
     "output_type": "stream",
     "text": [
      "Epoch 38 - Train Loss: 0.0668, Val Loss: 0.0837, Train Acc: 0.9818, Val Acc: 0.9761\n"
     ]
    },
    {
     "name": "stderr",
     "output_type": "stream",
     "text": [
      "Epoch 39/100: 100%|██████████| 47/47 [00:22<00:00,  2.13it/s]\n"
     ]
    },
    {
     "name": "stdout",
     "output_type": "stream",
     "text": [
      "Epoch 39 - Train Loss: 0.0601, Val Loss: 0.0786, Train Acc: 0.9828, Val Acc: 0.9782\n"
     ]
    },
    {
     "name": "stderr",
     "output_type": "stream",
     "text": [
      "Epoch 40/100: 100%|██████████| 47/47 [00:21<00:00,  2.15it/s]\n"
     ]
    },
    {
     "name": "stdout",
     "output_type": "stream",
     "text": [
      "Epoch 40 - Train Loss: 0.0591, Val Loss: 0.0701, Train Acc: 0.9823, Val Acc: 0.9792\n"
     ]
    },
    {
     "name": "stderr",
     "output_type": "stream",
     "text": [
      "Epoch 41/100: 100%|██████████| 47/47 [00:21<00:00,  2.15it/s]\n"
     ]
    },
    {
     "name": "stdout",
     "output_type": "stream",
     "text": [
      "Epoch 41 - Train Loss: 0.0534, Val Loss: 0.0656, Train Acc: 0.9835, Val Acc: 0.9779\n"
     ]
    },
    {
     "name": "stderr",
     "output_type": "stream",
     "text": [
      "Epoch 42/100: 100%|██████████| 47/47 [00:21<00:00,  2.15it/s]\n"
     ]
    },
    {
     "name": "stdout",
     "output_type": "stream",
     "text": [
      "Epoch 42 - Train Loss: 0.0525, Val Loss: 0.0596, Train Acc: 0.9838, Val Acc: 0.9807\n"
     ]
    },
    {
     "name": "stderr",
     "output_type": "stream",
     "text": [
      "Epoch 43/100: 100%|██████████| 47/47 [00:21<00:00,  2.17it/s]\n"
     ]
    },
    {
     "name": "stdout",
     "output_type": "stream",
     "text": [
      "Epoch 43 - Train Loss: 0.0466, Val Loss: 0.0652, Train Acc: 0.9849, Val Acc: 0.9783\n"
     ]
    },
    {
     "name": "stderr",
     "output_type": "stream",
     "text": [
      "Epoch 44/100: 100%|██████████| 47/47 [00:21<00:00,  2.19it/s]\n"
     ]
    },
    {
     "name": "stdout",
     "output_type": "stream",
     "text": [
      "Epoch 44 - Train Loss: 0.0459, Val Loss: 0.0542, Train Acc: 0.9851, Val Acc: 0.9822\n"
     ]
    },
    {
     "name": "stderr",
     "output_type": "stream",
     "text": [
      "Epoch 45/100: 100%|██████████| 47/47 [00:21<00:00,  2.17it/s]\n"
     ]
    },
    {
     "name": "stdout",
     "output_type": "stream",
     "text": [
      "Epoch 45 - Train Loss: 0.0422, Val Loss: 0.0541, Train Acc: 0.9859, Val Acc: 0.9823\n"
     ]
    },
    {
     "name": "stderr",
     "output_type": "stream",
     "text": [
      "Epoch 46/100: 100%|██████████| 47/47 [00:21<00:00,  2.17it/s]\n"
     ]
    },
    {
     "name": "stdout",
     "output_type": "stream",
     "text": [
      "Epoch 46 - Train Loss: 0.0406, Val Loss: 0.0499, Train Acc: 0.9865, Val Acc: 0.9829\n"
     ]
    },
    {
     "name": "stderr",
     "output_type": "stream",
     "text": [
      "Epoch 47/100: 100%|██████████| 47/47 [00:21<00:00,  2.19it/s]\n"
     ]
    },
    {
     "name": "stdout",
     "output_type": "stream",
     "text": [
      "Epoch 47 - Train Loss: 0.0448, Val Loss: 0.0499, Train Acc: 0.9852, Val Acc: 0.9835\n"
     ]
    },
    {
     "name": "stderr",
     "output_type": "stream",
     "text": [
      "Epoch 48/100: 100%|██████████| 47/47 [00:21<00:00,  2.21it/s]\n"
     ]
    },
    {
     "name": "stdout",
     "output_type": "stream",
     "text": [
      "Epoch 48 - Train Loss: 0.0370, Val Loss: 0.0518, Train Acc: 0.9873, Val Acc: 0.9835\n"
     ]
    },
    {
     "name": "stderr",
     "output_type": "stream",
     "text": [
      "Epoch 49/100: 100%|██████████| 47/47 [00:20<00:00,  2.24it/s]\n"
     ]
    },
    {
     "name": "stdout",
     "output_type": "stream",
     "text": [
      "Epoch 49 - Train Loss: 0.0352, Val Loss: 0.0509, Train Acc: 0.9879, Val Acc: 0.9841\n"
     ]
    },
    {
     "name": "stderr",
     "output_type": "stream",
     "text": [
      "Epoch 50/100: 100%|██████████| 47/47 [00:20<00:00,  2.24it/s]\n"
     ]
    },
    {
     "name": "stdout",
     "output_type": "stream",
     "text": [
      "Epoch 50 - Train Loss: 0.0327, Val Loss: 0.0447, Train Acc: 0.9886, Val Acc: 0.9853\n"
     ]
    },
    {
     "name": "stderr",
     "output_type": "stream",
     "text": [
      "Epoch 51/100: 100%|██████████| 47/47 [00:21<00:00,  2.21it/s]\n"
     ]
    },
    {
     "ename": "KeyboardInterrupt",
     "evalue": "",
     "output_type": "error",
     "traceback": [
      "\u001b[31m---------------------------------------------------------------------------\u001b[39m",
      "\u001b[31mKeyboardInterrupt\u001b[39m                         Traceback (most recent call last)",
      "\u001b[36mCell\u001b[39m\u001b[36m \u001b[39m\u001b[32mIn[6]\u001b[39m\u001b[32m, line 36\u001b[39m\n\u001b[32m     34\u001b[39m outputs = model(images)\n\u001b[32m     35\u001b[39m loss = criterion(outputs, masks)\n\u001b[32m---> \u001b[39m\u001b[32m36\u001b[39m val_loss += loss.item()\n\u001b[32m     37\u001b[39m preds = outputs.argmax(\u001b[32m1\u001b[39m)\n\u001b[32m     38\u001b[39m val_acc += (preds == masks).float().mean().item()\n",
      "\u001b[31mKeyboardInterrupt\u001b[39m: "
     ]
    }
   ],
   "source": [
    "optimizer = torch.optim.Adam(model.parameters(), lr=1e-4)\n",
    "criterion = nn.CrossEntropyLoss()\n",
    "\n",
    "num_epochs = 100\n",
    "train_losses, val_losses = [], []\n",
    "train_accs, val_accs = [], []\n",
    "\n",
    "# Training loop\n",
    "for epoch in range(num_epochs):\n",
    "    model.train()\n",
    "    total_loss, total_acc = 0, 0\n",
    "\n",
    "    for images, masks in tqdm(train_loader, desc=f\"Epoch {epoch+1}/{num_epochs}\"):\n",
    "        images, masks = images.to(device), masks.to(device)\n",
    "        optimizer.zero_grad()\n",
    "        outputs = model(images)\n",
    "        loss = criterion(outputs, masks)\n",
    "        loss.backward()\n",
    "        optimizer.step()\n",
    "        total_loss += loss.item()\n",
    "        preds = outputs.argmax(1)\n",
    "        total_acc += (preds == masks).float().mean().item()\n",
    "\n",
    "    avg_train_loss = total_loss / len(train_loader)\n",
    "    avg_train_acc = total_acc / len(train_loader)\n",
    "    train_losses.append(avg_train_loss)\n",
    "    train_accs.append(avg_train_acc)\n",
    "\n",
    "    model.eval()\n",
    "    val_loss, val_acc = 0, 0\n",
    "    with torch.no_grad():\n",
    "        for images, masks in val_loader:\n",
    "            images, masks = images.to(device), masks.to(device)\n",
    "            outputs = model(images)\n",
    "            loss = criterion(outputs, masks)\n",
    "            val_loss += loss.item()\n",
    "            preds = outputs.argmax(1)\n",
    "            val_acc += (preds == masks).float().mean().item()\n",
    "\n",
    "    avg_val_loss = val_loss / len(val_loader)\n",
    "    avg_val_acc = val_acc / len(val_loader)\n",
    "    val_losses.append(avg_val_loss)\n",
    "    val_accs.append(avg_val_acc)\n",
    "\n",
    "    print(f\"Epoch {epoch+1} - Train Loss: {avg_train_loss:.4f}, Val Loss: {avg_val_loss:.4f}, Train Acc: {avg_train_acc:.4f}, Val Acc: {avg_val_acc:.4f}\")\n"
   ]
  },
  {
   "cell_type": "code",
   "execution_count": null,
   "id": "1642ae55",
   "metadata": {},
   "outputs": [],
   "source": [
    "# Plot training metrics\n",
    "plt.figure(figsize=(12,4))\n",
    "plt.subplot(1,2,1)\n",
    "plt.plot(train_losses, label='Train Loss')\n",
    "plt.plot(val_losses, label='Val Loss')\n",
    "plt.legend()\n",
    "plt.title('Loss')\n",
    "\n",
    "plt.subplot(1,2,2)\n",
    "plt.plot(train_accs, label='Train Acc')\n",
    "plt.plot(val_accs, label='Val Acc')\n",
    "plt.legend()\n",
    "plt.title('Accuracy')\n",
    "plt.show()"
   ]
  },
  {
   "cell_type": "markdown",
   "id": "52fd4a8c",
   "metadata": {},
   "source": [
    "### Part 4: Evaluating"
   ]
  },
  {
   "cell_type": "code",
   "execution_count": null,
   "id": "7b01026f",
   "metadata": {},
   "outputs": [],
   "source": [
    "# Model saving\n",
    "model.eval()\n",
    "torch.save(model.state_dict(), \"unet_model.pth\")\n",
    "storage_size = os.path.getsize(\"unet_model.pth\") / (1024 ** 2)\n",
    "\n",
    "# Metrics summary (evaluation and inference metrics)\n",
    "metrics_summary = {\"param_count\": sum(p.numel() for p in model.parameters() if p.requires_grad), \"storage_size_MB\": storage_size,\n",
    "                   \"train_losses\": train_losses, \"val_losses\": val_losses, \"train_accs\": train_accs, \"val_accs\": val_accs,\n",
    "                   \"test_loss\": [], \"test_accuracy\": [], \"iou\": [], \"pixel_accuracy\": [], \"precision\": [], \"recall\": [],\n",
    "                   \"gpu_memory_MB\": [], \"inference_time_per_image\": []}\n",
    "\n",
    "with torch.no_grad():\n",
    "    for images, masks in tqdm(test_loader):\n",
    "        images, masks = images.to(device), masks.to(device)\n",
    "        torch.cuda.reset_peak_memory_stats(device)\n",
    "        start_time = time.time()\n",
    "        outputs = model(images)\n",
    "        inference_time = time.time() - start_time\n",
    "        gpu_memory = torch.cuda.max_memory_allocated(device) / (1024 ** 2)\n",
    "        loss = criterion(outputs, masks)\n",
    "        preds = outputs.argmax(1)\n",
    "\n",
    "        iou, pixel_acc, precision, recall = calculate_metrics(preds, masks)\n",
    "        metrics_summary[\"test_loss\"].append(loss.item())\n",
    "        metrics_summary[\"test_accuracy\"].append((preds == masks).float().mean().item())\n",
    "        metrics_summary[\"iou\"].append(iou)\n",
    "        metrics_summary[\"pixel_accuracy\"].append(pixel_acc)\n",
    "        metrics_summary[\"precision\"].append(precision)\n",
    "        metrics_summary[\"recall\"].append(recall)\n",
    "        metrics_summary[\"gpu_memory_MB\"].append(gpu_memory)\n",
    "        metrics_summary[\"inference_time_per_image\"].append(inference_time)\n",
    "\n",
    "# Get test loss and test accuracy\n",
    "avg_test_loss = np.mean(metrics_summary[\"test_loss\"])\n",
    "avg_test_accuracy = np.mean(metrics_summary[\"test_accuracy\"])\n",
    "avg_gpu_memory = np.mean(metrics_summary[\"gpu_memory_MB\"])\n",
    "avg_inference_time = np.mean(metrics_summary[\"inference_time_per_image\"])\n",
    "\n",
    "print(f\"Average Test Loss: {avg_test_loss:.4f}\")\n",
    "print(f\"Average Test Accuracy: {avg_test_accuracy:.4f}\")\n",
    "print(f\"Average GPU Memory Usage per Image: {avg_gpu_memory:.2f} MB\")\n",
    "print(f\"Average Inference Time per Image: {avg_inference_time:.4f} seconds\")\n",
    "\n",
    "# Save Metrics\n",
    "with open(\"unet_metrics.json\", \"w\") as f:\n",
    "    json.dump(metrics_summary, f, indent=4)\n",
    "\n",
    "print(\"Metrics saved to unet_metrics.json\")"
   ]
  },
  {
   "cell_type": "markdown",
   "id": "d61c4cba",
   "metadata": {},
   "source": [
    "### Part 5: Visualize a batch"
   ]
  },
  {
   "cell_type": "code",
   "execution_count": null,
   "id": "77a80309",
   "metadata": {},
   "outputs": [],
   "source": [
    "# Visualization of sample predictions\n",
    "sample_images, sample_masks = next(iter(train_loader))\n",
    "batch_size = sample_images.shape[0]\n",
    "\n",
    "with torch.no_grad():\n",
    "    sample_images_gpu = sample_images.float().to(device)\n",
    "    output = model(sample_images_gpu)['out']\n",
    "    predicted_masks = torch.argmax(output, dim=1).cpu()\n",
    "\n",
    "for i in range(batch_size):\n",
    "    fig, axs = plt.subplots(1, 3, figsize=(12, 4))\n",
    "\n",
    "    axs[0].imshow(torch.permute(sample_images[i], (1, 2, 0)))\n",
    "    axs[0].set_title(\"Input Image\")\n",
    "    axs[0].axis(\"off\")\n",
    "\n",
    "    axs[1].imshow(sample_masks[i], cmap='gray')\n",
    "    axs[1].set_title(\"Ground Truth Mask\")\n",
    "    axs[1].axis(\"off\")\n",
    "\n",
    "    axs[2].imshow(predicted_masks[i], cmap='gray')\n",
    "    axs[2].set_title(\"Predicted Mask\")\n",
    "    axs[2].axis(\"off\")\n",
    "\n",
    "    plt.tight_layout()\n",
    "    plt.show()"
   ]
  },
  {
   "cell_type": "markdown",
   "id": "07eb6e20",
   "metadata": {},
   "source": [
    "### Part 6: Visualize the saved metrics"
   ]
  },
  {
   "cell_type": "code",
   "execution_count": null,
   "id": "4117a507",
   "metadata": {},
   "outputs": [],
   "source": [
    "import json\n",
    "import matplotlib.pyplot as plt\n",
    "import numpy as np\n",
    "\n",
    "# Load metrics from JSON file\n",
    "with open(\"unet_metrics.json\", \"r\") as f:\n",
    "    metrics = json.load(f)\n",
    "\n",
    "# Plot Training and Validation Loss & Accuracy\n",
    "plt.figure(figsize=(12, 8))\n",
    "\n",
    "# Loss\n",
    "plt.subplot(2, 2, 1)\n",
    "plt.plot(metrics[\"train_losses\"], label='Train Loss', marker='o')\n",
    "plt.plot(metrics[\"val_losses\"], label='Validation Loss', marker='o')\n",
    "plt.title('Loss over Epochs')\n",
    "plt.xlabel('Epoch')\n",
    "plt.ylabel('Loss')\n",
    "plt.legend()\n",
    "plt.grid(True)\n",
    "\n",
    "# Accuracy\n",
    "plt.subplot(2, 2, 2)\n",
    "plt.plot(metrics[\"train_accs\"], label='Train Accuracy', marker='o')\n",
    "plt.plot(metrics[\"val_accs\"], label='Validation Accuracy', marker='o')\n",
    "plt.title('Accuracy over Epochs')\n",
    "plt.xlabel('Epoch')\n",
    "plt.ylabel('Accuracy')\n",
    "plt.legend()\n",
    "plt.grid(True)\n",
    "\n",
    "# GPU Memory Usage per Test Image\n",
    "plt.subplot(2, 2, 3)\n",
    "plt.plot(metrics[\"gpu_memory_MB\"], marker='o', color='blue', linestyle='None')\n",
    "plt.title('GPU Memory Usage per Image')\n",
    "plt.xlabel('Test Image Index')\n",
    "plt.ylabel('GPU Memory (MB)')\n",
    "plt.grid(True)\n",
    "\n",
    "# Inference Time per Test Image\n",
    "plt.subplot(2, 2, 4)\n",
    "plt.plot(metrics[\"inference_time_per_image\"], marker='o', color='green', linestyle='None')\n",
    "plt.title('Inference Time per Image')\n",
    "plt.xlabel('Test Image Index')\n",
    "plt.ylabel('Inference Time (seconds)')\n",
    "plt.grid(True)\n",
    "\n",
    "plt.tight_layout()\n",
    "plt.show()\n",
    "\n",
    "# Plot IoU, Pixel Accuracy, Precision, and Recall for Test Set\n",
    "metric_names = [\"iou\", \"pixel_accuracy\", \"precision\", \"recall\"]\n",
    "plt.figure(figsize=(14, 10))\n",
    "\n",
    "for i, metric_name in enumerate(metric_names, 1):\n",
    "    plt.subplot(2, 2, i)\n",
    "    plt.plot(metrics[metric_name], marker='o', linestyle='None')\n",
    "    plt.title(f'{metric_name.replace(\"_\", \" \").title()} per Test Image')\n",
    "    plt.xlabel('Test Sample')\n",
    "    plt.ylabel(metric_name.replace(\"_\", \" \").title())\n",
    "    plt.grid(True)\n",
    "\n",
    "plt.tight_layout()\n",
    "plt.show()\n",
    "\n",
    "# Summarize Test Metrics (using nanmean to handle NaNs gracefully)\n",
    "print(f\"Average Test IoU: {np.nanmean(metrics['iou']):.4f}\")\n",
    "print(f\"Average Test Pixel Accuracy: {np.mean(metrics['pixel_accuracy']):.4f}\")\n",
    "print(f\"Average Test Precision: {np.nanmean(metrics['precision']):.4f}\")\n",
    "print(f\"Average Test Recall: {np.nanmean(metrics['recall']):.4f}\")\n",
    "\n",
    "# Summarize GPU and Inference Time Metrics\n",
    "print(f\"Average GPU Memory Usage: {np.mean(metrics['gpu_memory_MB']):.2f} MB\")\n",
    "print(f\"Average Inference Time: {np.mean(metrics['inference_time_per_image']):.4f} seconds\")\n",
    "\n",
    "# Print Model Hardware Metrics\n",
    "print(f\"Total Model Parameter Count: {metrics['param_count']:,}\")\n",
    "print(f\"Model Storage Size: {metrics['storage_size_MB']:.2f} MB\")\n"
   ]
  }
 ],
 "metadata": {
  "kernelspec": {
   "display_name": "Python 3",
   "language": "python",
   "name": "python3"
  },
  "language_info": {
   "codemirror_mode": {
    "name": "ipython",
    "version": 3
   },
   "file_extension": ".py",
   "mimetype": "text/x-python",
   "name": "python",
   "nbconvert_exporter": "python",
   "pygments_lexer": "ipython3",
   "version": "3.12.9"
  }
 },
 "nbformat": 4,
 "nbformat_minor": 5
}
